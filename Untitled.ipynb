{
 "cells": [
  {
   "cell_type": "code",
   "execution_count": 1,
   "metadata": {},
   "outputs": [],
   "source": [
    "import networkx as nx\n",
    "import matplotlib.pyplot as plt\n",
    "import numpy as np\n",
    "import pandas as pd\n",
    "\n",
    "G = nx.Graph()\n",
    "G.add_edge(1, 4)\n",
    "G.add_edge(2, 4)\n",
    "G.add_edge(3, 4)"
   ]
  },
  {
   "cell_type": "code",
   "execution_count": 2,
   "metadata": {},
   "outputs": [
    {
     "data": {
      "image/png": "[encoded data removed]",
      "text/plain": [
       "<matplotlib.figure.Figure at 0x501e0f0>"
      ]
     },
     "metadata": {},
     "output_type": "display_data"
    }
   ],
   "source": [
    "nx.draw(G)\n",
    "plt.show()"
   ]
  },
  {
   "cell_type": "code",
   "execution_count": 3,
   "metadata": {},
   "outputs": [],
   "source": [
    "# using the example in figure 1.a \n",
    "# with the help of equations given in Supplementary Information \n",
    "# I try to compute the Ps and Ds of the four nodes"
   ]
  },
  {
   "cell_type": "code",
   "execution_count": 28,
   "metadata": {},
   "outputs": [
    {
     "name": "stdout",
     "output_type": "stream",
     "text": [
      "adjacency matrix  W = \n"
     ]
    },
    {
     "data": {
      "text/plain": [
       "matrix([[0, 0, 0, 1],\n",
       "        [0, 0, 0, 1],\n",
       "        [0, 0, 0, 1],\n",
       "        [1, 1, 1, 0]])"
      ]
     },
     "execution_count": 28,
     "metadata": {},
     "output_type": "execute_result"
    }
   ],
   "source": [
    "# get the adjacency matrix \n",
    "w = nx.adjacency_matrix(G)\n",
    "print \"adjacency matrix  W = \"\n",
    "w.todense()"
   ]
  },
  {
   "cell_type": "code",
   "execution_count": 30,
   "metadata": {},
   "outputs": [
    {
     "name": "stdout",
     "output_type": "stream",
     "text": [
      "pi2 = \n"
     ]
    },
    {
     "data": {
      "text/plain": [
       "matrix([[ 0.        ,  0.        ,  0.        ,  0.33333333],\n",
       "        [ 0.        ,  0.        ,  0.        ,  0.33333333],\n",
       "        [ 0.        ,  0.        ,  0.        ,  0.33333333],\n",
       "        [ 1.        ,  1.        ,  1.        ,  0.        ]])"
      ]
     },
     "execution_count": 30,
     "metadata": {},
     "output_type": "execute_result"
    }
   ],
   "source": [
    "#  now calculate π according to equation 1 and 2  that is  π1ij = wij / wi.     and   π2ij = wij / w.j\n",
    "W_dot_j = w.sum(axis = 0)\n",
    "W_i_dot = w.sum(axis = 1)\n",
    "w = w.astype(np.float) \n",
    "pi2 = w/W_dot_j\n",
    "print \"pi2 = \" \n",
    "pi2"
   ]
  },
  {
   "cell_type": "code",
   "execution_count": 33,
   "metadata": {},
   "outputs": [
    {
     "name": "stdout",
     "output_type": "stream",
     "text": [
      "pi = \n"
     ]
    },
    {
     "data": {
      "text/plain": [
       "matrix([[ 0.        ,  0.        ,  0.        ,  1.        ],\n",
       "        [ 0.        ,  0.        ,  0.        ,  1.        ],\n",
       "        [ 0.        ,  0.        ,  0.        ,  1.        ],\n",
       "        [ 0.33333333,  0.33333333,  0.33333333,  0.        ]])"
      ]
     },
     "execution_count": 33,
     "metadata": {},
     "output_type": "execute_result"
    }
   ],
   "source": [
    "pi = w/W_i_dot\n",
    "print \"pi = \"\n",
    "pi"
   ]
  },
  {
   "cell_type": "code",
   "execution_count": 13,
   "metadata": {},
   "outputs": [
    {
     "data": {
      "text/plain": [
       "matrix([[ 0.11111111,  0.11111111,  0.11111111,  0.        ],\n",
       "        [ 0.11111111,  0.11111111,  0.11111111,  0.        ],\n",
       "        [ 0.11111111,  0.11111111,  0.11111111,  0.        ],\n",
       "        [ 0.        ,  0.        ,  0.        ,  3.        ]])"
      ]
     },
     "execution_count": 13,
     "metadata": {},
     "output_type": "execute_result"
    }
   ],
   "source": [
    "#calculate S_h and S_a\n",
    "S_h = pi2.dot(pi2.T)\n",
    "S_h"
   ]
  },
  {
   "cell_type": "code",
   "execution_count": 14,
   "metadata": {},
   "outputs": [
    {
     "data": {
      "text/plain": [
       "matrix([[ 1.        ,  1.        ,  1.        ,  0.        ],\n",
       "        [ 1.        ,  1.        ,  1.        ,  0.        ],\n",
       "        [ 1.        ,  1.        ,  1.        ,  0.        ],\n",
       "        [ 0.        ,  0.        ,  0.        ,  0.33333333]])"
      ]
     },
     "execution_count": 14,
     "metadata": {},
     "output_type": "execute_result"
    }
   ],
   "source": [
    "S_a = pi2.T.dot(pi2)\n",
    "S_a"
   ]
  },
  {
   "cell_type": "code",
   "execution_count": 10,
   "metadata": {},
   "outputs": [
    {
     "data": {
      "text/plain": [
       "(array([  3.33333333e-01,   6.63764354e-18,   1.54074396e-33,\n",
       "          3.00000000e+00]),\n",
       " matrix([[ -5.77350269e-01,  -4.30572936e-01,  -1.34939825e-16,\n",
       "            0.00000000e+00],\n",
       "         [ -5.77350269e-01,  -3.85509013e-01,  -7.07106781e-01,\n",
       "            0.00000000e+00],\n",
       "         [ -5.77350269e-01,   8.16081949e-01,   7.07106781e-01,\n",
       "            0.00000000e+00],\n",
       "         [  0.00000000e+00,   0.00000000e+00,   0.00000000e+00,\n",
       "            1.00000000e+00]]))"
      ]
     },
     "execution_count": 10,
     "metadata": {},
     "output_type": "execute_result"
    }
   ],
   "source": [
    "#according to equation 7 and 8 , P_h and D_a are eigenvecters associated to the leading eigenvalues α\n",
    "x,y = np.linalg.eig(S_h)\n",
    "np.linalg.eig(S_h)"
   ]
  },
  {
   "cell_type": "code",
   "execution_count": 20,
   "metadata": {},
   "outputs": [
    {
     "data": {
      "text/plain": [
       "matrix([[ 0.],\n",
       "        [ 0.],\n",
       "        [ 0.],\n",
       "        [ 1.]])"
      ]
     },
     "execution_count": 20,
     "metadata": {},
     "output_type": "execute_result"
    }
   ],
   "source": [
    "# the leading eigenvalue is 3.0 \n",
    "P_h = y[:,3]\n",
    "P_h"
   ]
  },
  {
   "cell_type": "code",
   "execution_count": 15,
   "metadata": {},
   "outputs": [],
   "source": [
    "# P_h_nodeB = 1 and P_h_nodeA = 0"
   ]
  },
  {
   "cell_type": "code",
   "execution_count": 18,
   "metadata": {},
   "outputs": [
    {
     "data": {
      "text/plain": [
       "(array([  3.00000000e+00,   6.16297582e-33,  -7.50963641e-17,\n",
       "          3.33333333e-01]),\n",
       " matrix([[  5.77350269e-01,  -6.51147040e-17,   6.09781659e-01,\n",
       "            0.00000000e+00],\n",
       "         [  5.77350269e-01,  -7.07106781e-01,  -7.75129861e-01,\n",
       "            0.00000000e+00],\n",
       "         [  5.77350269e-01,   7.07106781e-01,   1.65348202e-01,\n",
       "            0.00000000e+00],\n",
       "         [  0.00000000e+00,   0.00000000e+00,   0.00000000e+00,\n",
       "            1.00000000e+00]]))"
      ]
     },
     "execution_count": 18,
     "metadata": {},
     "output_type": "execute_result"
    }
   ],
   "source": [
    "x,y = np.linalg.eig(S_a)\n",
    "np.linalg.eig(S_a)"
   ]
  },
  {
   "cell_type": "code",
   "execution_count": 35,
   "metadata": {},
   "outputs": [
    {
     "data": {
      "text/plain": [
       "matrix([[ 0.57735027],\n",
       "        [ 0.57735027],\n",
       "        [ 0.57735027],\n",
       "        [ 0.        ]])"
      ]
     },
     "execution_count": 35,
     "metadata": {},
     "output_type": "execute_result"
    }
   ],
   "source": [
    "# the leading eigenvalue is 3.0 \n",
    "D_a = y[:,0]\n",
    "D_a"
   ]
  },
  {
   "cell_type": "code",
   "execution_count": null,
   "metadata": {},
   "outputs": [],
   "source": [
    "# D_a_nodeB = 0 and D_a_nodeA = 0.57735027 \n",
    "# here my result is not 0.33 as indicated in figure 1.a"
   ]
  }
 ],
 "metadata": {
  "kernelspec": {
   "display_name": "Python 2",
   "language": "python",
   "name": "python2"
  },
  "language_info": {
   "codemirror_mode": {
    "name": "ipython",
    "version": 2
   },
   "file_extension": ".py",
   "mimetype": "text/x-python",
   "name": "python",
   "nbconvert_exporter": "python",
   "pygments_lexer": "ipython2",
   "version": "2.7.13"
  }
 },
 "nbformat": 4,
 "nbformat_minor": 2
}
